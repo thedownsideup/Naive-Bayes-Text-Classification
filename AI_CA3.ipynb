{
 "cells": [
  {
   "cell_type": "markdown",
   "metadata": {},
   "source": [
    "### Artificial Intelligence Project #3 : Naive Bayes Text Classification\n",
    "Mahsa Eskandari Ghadi         \n",
    "Student No. 810196597"
   ]
  },
  {
   "cell_type": "markdown",
   "metadata": {},
   "source": [
    "In this project we use <b>Naive Bayes</b> to classify the news by their short descriptions. Our data has 3 categories: Travel, Business and Style&Beauty.<br>\n",
    "Our approach to this text classification is the <b>Bag of Words</b> model. In this type of modeling we don't care about the order of the words or the grammar of the sentence. We just work with a bunch of words and how many times they appear so it's a \"bag of words\" in the literal sense."
   ]
  },
  {
   "cell_type": "code",
   "execution_count": 1,
   "metadata": {},
   "outputs": [
    {
     "name": "stdout",
     "output_type": "stream",
     "text": [
      "Requirement already satisfied: prettytable in e:\\program files\\anaconda\\lib\\site-packages (0.7.2)\n",
      "Requirement already satisfied: tabulate in e:\\program files\\anaconda\\lib\\site-packages (0.8.7)\n"
     ]
    }
   ],
   "source": [
    "import pandas as pd\n",
    "import nltk\n",
    "from nltk.corpus import stopwords\n",
    "from nltk.stem.snowball import SnowballStemmer\n",
    "import string\n",
    "import re\n",
    "import time\n",
    "!pip install prettytable\n",
    "from prettytable import PrettyTable\n",
    "!pip install tabulate\n",
    "!set TABULATE_INSTALL=lib-only\n",
    "from tabulate import tabulate\n",
    "from collections import OrderedDict\n",
    "from nltk.stem import WordNetLemmatizer"
   ]
  },
  {
   "cell_type": "code",
   "execution_count": 2,
   "metadata": {},
   "outputs": [],
   "source": [
    "TRAIN_DATA = \"data.csv\"\n",
    "TEST_DATA = \"test.csv\""
   ]
  },
  {
   "cell_type": "markdown",
   "metadata": {},
   "source": [
    "<font color=\"9AC0CD\"><b>How is a clean data achieved here? </b></font> <br>\n",
    "- Step1 : Remove all the non-alphabetic characters such as \"!, &, #, ^, @ , ...\".\n",
    "- Step2 : Change all of the uppercase letters to lowercase to have a more consistent data. <br>\n",
    "- Step3 : Extract the words\n",
    "- Step4 : Stem the words\n",
    "\n",
    "<font color=\"10B3B4\"><b>What is <b>Stemming</b>? </b></font> <br>\n",
    "With stemming, words are reduced to their word stems. A word stem need not be the same root as a dictionary-based morphological root, it just is an equal to or smaller form of the word. For example “cooking,” and “cooked” all to the same stem of “cook.” [1] <br>\n",
    "\n",
    "<font color=\"10B3B4\"><b>What is <b>lemmatization</b>? and what is it's difference with stemming? </b></font> <br>\n",
    "Stemming is definitely the simpler of the two approaches. Lemmatization is a more calculated process and it involves resolving words to their dictionary form for example resolving \"is\" and \"are\" to “be”. <br>\n",
    "\n",
    "Stemmers are generally more popular in text classifications and at first I used the Snowball Stemmer, you can read more about snowball stemmer and other types of stemmers -> [1]\n",
    "\n",
    "I decided to give lemmatization a chance as well, In my code it didn't make much difference in precision and accuracy and recall which are all calculated in the end. <br>"
   ]
  },
  {
   "cell_type": "code",
   "execution_count": 3,
   "metadata": {},
   "outputs": [],
   "source": [
    "def extract_words (text):\n",
    "    stop_words = set(stopwords.words('english'))\n",
    "#     stemmer = SnowballStemmer('english')\n",
    "    lemmatizer = WordNetLemmatizer() \n",
    "    alphabet = string.ascii_lowercase\n",
    "    words = re.sub('[^{}]'.format(alphabet), ' ', text.lower()).split()\n",
    "    clean_words = [word for word in words if word not in stop_words]\n",
    "    stemmed = [lemmatizer.lemmatize(word) for word in clean_words]\n",
    "#     stemmed = [stemmer.stem(word) for word in clean_words]\n",
    "    return stemmed\n"
   ]
  },
  {
   "cell_type": "markdown",
   "metadata": {},
   "source": [
    "<font color=\"D7BDE2\"><b>What is <b>Oversampling</b> and why do we do it? </b></font> <br>\n",
    "Oversampling involve introducing a bias to select more samples from one class than from another, to compensate for an imbalance that is either already present in the data, or likely to develop if a purely random sample were taken. [2] <br>\n",
    "The values of recall and precision shouldn't have more than a 10% difference looking between. For example at first the precision for TRAVEL was 0.92 and for BUSINESS it was 0.77 and that's a 15% difference (bad).\n",
    "Steps I took for oversampling:\n",
    "- Findout all the sizes of data there is in the dataset for each class.\n",
    "- Find the maximum\n",
    "- Randomly sample (maximum - class data size) from the current class\n",
    "- Append the result of last step to the data\n",
    "\n",
    "So now we have the amount of data for all of the categories. <br>\n",
    "<b>Oversampling made a big difference in the precision and recall values and made them much closer to eachother comparing in classes.</b> BUSINESS's precision increased to 0.89 making the diffrence 0.3."
   ]
  },
  {
   "cell_type": "code",
   "execution_count": 4,
   "metadata": {},
   "outputs": [],
   "source": [
    "def over_sample (categories, dataset):\n",
    "    data_sizes = []\n",
    "\n",
    "    for category in categories:\n",
    "        data = dataset[dataset['category'] == category]\n",
    "        data_sizes.append(data.shape[0])\n",
    "\n",
    "    for index, category in enumerate(categories):\n",
    "        data = dataset[dataset['category'] == category]\n",
    "        dataset = dataset.append(data.sample(n = max(data_sizes)-data_sizes[index]))\n",
    "        \n",
    "    return dataset"
   ]
  },
  {
   "cell_type": "markdown",
   "metadata": {},
   "source": [
    "<font color=\"10B3B4\"><b>Why is it better to get 80% of each category and put them all together rather than just using 80% of the whole data?</b></font> <br> If we have more of one category to train our model with in testing the model has more knowledge about that category and the other categories might have the same characteristics but the model doesn't know that and puts that characteristics along side of that specific category, but when we have the same amount of data to learn for all categories all of them have the same chance. <br>\n",
    "In this project however, I tested it both ways and again the accuracy and precisions didn't change at all.\n"
   ]
  },
  {
   "cell_type": "code",
   "execution_count": 5,
   "metadata": {},
   "outputs": [],
   "source": [
    "def load_data (filename): \n",
    "\n",
    "    #split data to train and test\n",
    "    data = pd.read_csv('data.csv')\n",
    "    data_no_nans = data.dropna(subset=['short_description'])\n",
    "    clean_data = data_no_nans.reset_index(drop=True)\n",
    "\n",
    "    data = pd.DataFrame(clean_data, columns = ['category', 'short_description'])\n",
    "\n",
    "    categories = clean_data['category'].unique()\n",
    "    \n",
    "    data = over_sample(categories, data)\n",
    "    \n",
    "    test_df = pd.read_csv('test.csv')\n",
    "    test_df = data.dropna(subset=['short_description'])\n",
    "    test_df = test_df.reset_index(drop=True)\n",
    "    test_df = pd.DataFrame(test_df, columns = ['short_description'])\n",
    "\n",
    "    df_list = []\n",
    "    for category in categories:\n",
    "        df_list.append(data[clean_data['category'] == category])\n",
    "        \n",
    "    train_set = pd.DataFrame()\n",
    "    test_set = pd.DataFrame()\n",
    "    \n",
    "    \n",
    "    for df in df_list:\n",
    "        train_set = train_set.append(df[:int(df.shape[0]*0.8)], ignore_index=True)\n",
    "        test_set = test_set.append(df[int(df.shape[0]*0.8):], ignore_index=True)\n",
    "    \n",
    "    return train_set, test_set, test_df"
   ]
  },
  {
   "cell_type": "code",
   "execution_count": 22,
   "metadata": {},
   "outputs": [],
   "source": [
    "def count_words (text):\n",
    "    extracted = []\n",
    "\n",
    "    for sentence in text:\n",
    "        extracted += extract_words(sentence)\n",
    "\n",
    "    words_df = pd.DataFrame(extracted)\n",
    "    words_count = words_df[0].value_counts()    \n",
    "    words_count_dict = words_count.to_dict()\n",
    "\n",
    "    return words_count_dict, extracted"
   ]
  },
  {
   "cell_type": "code",
   "execution_count": 28,
   "metadata": {},
   "outputs": [],
   "source": [
    "def write_to_outputcsv(text):\n",
    "    df = pd.DataFrame(text)  \n",
    "    df.to_csv('output.csv') "
   ]
  },
  {
   "cell_type": "markdown",
   "metadata": {},
   "source": [
    "#### The Naive Bayes Classifier: <br>\n",
    "Has 4 methods: classify(which works as a main function), learn, predict and calculate accuracy. All of which are self explainatory by their names. I'll explain the flow: <br>\n",
    "<br>\n",
    "##### Part A: Learning: <br>\n",
    "- For each category, Extract the words and make the bag of words dictionary(words and their frequencies)\n",
    "- For each category calculate P(Category) <br>\n",
    "and we're done with learning:D <br>\n",
    "\n",
    "##### Part B: Predicting: Using Lidstone Smoothing [3] : <br>\n",
    "\n",
    "<font color=\"73C6B6\"><b>If the word \"Tehran\" appears in the the learning corpus only once, what will our system predict?</b></font> <br> This is where smoothing can help us. For example if  \"Newyork\" appears only once in and that one time it was in TRAVEL it doesn't mean that when we see \"Newyork\" in the test descriptions we should immediately classify the description as TRAVEL it could be about stock markets and wall street in that case it should be classified as BUSINESS. We need to allow this possibility and let the model know that this could be another category. If we didn't use smoothing the probability of \"Newyork\" would've been zero for BUSINESS in this example.<br>\n",
    "\n",
    "- For every short description in the testing set, calculate this probability for every category there is: <br><br>\n",
    "$ \\hat{P}(Word_i|Class_j) = \\frac{N_{{w_i}{c_j}} + \\alpha}{{N_{c_j}} + \\alpha d} $\n",
    "\n",
    "\n",
    "Where:\n",
    "\n",
    "- $N_{{w_i}{c_j}}$ : Number of times $word_i$ appears in $class_j$ <font color=\"9AC0CD\">category_dicts[idx][word]</font>\n",
    "- $N_{c_j}$ : Total count of all words in $class_j$ <font color=\"9AC0CD\">len(category_word_lists[idx]</font>\n",
    "- $\\alpha$ : Parameter for additive smoothing\n",
    "- $d$ : Number of words in total (i = [1,2, ... , d]) <font color=\"9AC0CD\">len(words)</font>\n",
    "\n",
    "Then: <br>\n",
    "\n",
    "$ P(Word|Class) = P(x_1|Class) \\times P(x_2|Class) \\times ... P(x_n|Class) \\times P(Class)$ \n",
    "\n",
    "THIS WAS A BAG OF WORDS APPROACH, another approach can be TF-IDF: <br>\n",
    "<font color=\"D7BDE2\"><b>-----------------------------------------------------------------------------------------------------------------------------------------------------------------------</b></font><br>\n",
    "<font color=\"73C6B6\"><b>What is <b>td-idf</b>? and how could it be used in a naive bayes problem? </b></font> <br>\n",
    "\n",
    "TF-IDF stands for <b>“Term Frequency — Inverse Document Frequency”</b>. This is a technique to quantify a word in documents, we generally compute a <b>weight</b> to each word which signifies <b>the importance of the word</b> in the document and corpus. This method is a widely used technique in Information Retrieval and Text Mining. [4] <br><br>\n",
    "$TF-IDF = Term \\ \\ Frequency \\ \\ (TF) * Inverse \\ \\ Document \\ \\ Frequency \\ \\ (IDF)$ <br><br>\n",
    "\n",
    "- <font color=\"D7BDE2\"><b>Term Frequency: </b></font> the number of occurances of a word in a document (frequency). Highly depends on the length of the document and the generality of word. (removing stopwords helps with this)\n",
    "- <font color=\"D7BDE2\"><b>Document Frequency: </b></font> number occurrences of the term(word) in documents. Basically defines the importance of the document in the corpus. Meaning here the importance of the short description in all of the short descriptions. (how much can this specific short decription help us to classify short descriptions later)\n",
    "\n",
    "- <font color=\"D7BDE2\"><b>Inverse Document Frequency: </b></font>: N/df. Depicts how much a word can be informative. For stop words it'll be really small as expected for these type of words. For example \"is\" is a word that can be used in any sentence and it should'nt make a difference when classifying. It's not like if the frequency of \"is\" is more in the TRAVEL category means that when we have a lot of \"is\"'s it must be TRAVEL:)) so this takes care of that. \n",
    "\n",
    "##### Part C: Calculate Accuracy: <br>\n",
    "- $Recall = \\frac{CorrectDetectedCategory}{CategoryInTesting}$ <br>\n",
    "- $Precision = \\frac{CorrectDetectedCategory}{Predicted Category}$ <br>\n",
    "- $Accuracy = \\frac{AllCorrectDetected}{Total}$ <br>\n",
    "\n",
    "calculate_accuracy also prints the confusion matrix, which is a table that depicts how many of the predicted category were actually correct and how many were mistaken for which other category."
   ]
  },
  {
   "cell_type": "code",
   "execution_count": 29,
   "metadata": {},
   "outputs": [],
   "source": [
    "class Naive_Bayes_Classifier:\n",
    "    \n",
    "    def __init__(self, alpha, is_two, is_test):\n",
    "        self.training_df, self.testing_df, self.test_df = load_data(TRAIN_DATA) #whole df\n",
    "        self.alpha = alpha\n",
    "        self.is_two = is_two\n",
    "        self.is_test = is_test\n",
    "        \n",
    "    def classify(self):\n",
    "        \n",
    "        if self.is_two:\n",
    "            self.training_df.drop(self.training_df[self.training_df['category'] == 'STYLE & BEAUTY'].index, inplace=True)\n",
    "            self.training_df = self.training_df.reset_index(drop=True)\n",
    "            self.testing_df.drop(self.testing_df[self.testing_df['category'] == 'STYLE & BEAUTY'].index , inplace=True)\n",
    "            self.testing_df = self.testing_df.reset_index(drop=True)\n",
    "            phase = 'phase1'\n",
    "        else:\n",
    "            phase = 'phase2'\n",
    "        \n",
    "        self.categories = self.training_df['category'].unique()\n",
    "        \n",
    "        all_words_dict, extracted = count_words(self.training_df['short_description'])\n",
    "        self.unique_words = pd.DataFrame(extracted)[0].unique()\n",
    "        \n",
    "        category_dicts = []\n",
    "        category_word_lists = []\n",
    "        class_prob_list= []\n",
    "        for category in self.categories:\n",
    "            category_dict, category_words = self.learn(category)\n",
    "            category_dicts.append(category_dict)\n",
    "            category_word_lists.append(category_words)\n",
    "            class_prob_list.append(self.training_df[self.training_df['category'] == category].size / self.training_df.size)\n",
    "            \n",
    "        \n",
    "        predictions = self.predict(category_dicts, category_word_lists, class_prob_list)\n",
    "    \n",
    "        if self.is_test:\n",
    "            write_to_outputcsv(predictions)\n",
    "        else:\n",
    "            self.calculate_accuracy(predictions, phase)\n",
    "        \n",
    "    def learn (self, category):\n",
    "\n",
    "        train_class = self.training_df[self.training_df['category'] == category]\n",
    "        count_dict, extracted = count_words(train_class['short_description'])\n",
    "\n",
    "        return count_dict, extracted\n",
    "            \n",
    "            \n",
    "    def predict (self, category_dicts, category_word_lists, class_prob_list):\n",
    "        predictions = []\n",
    "        descriptions = self.testing_df['short_description']\n",
    "        if self.is_test:\n",
    "            descriptions = self.test_df['short_description']\n",
    "        \n",
    "        scores_dict = {}\n",
    "        for index, description in enumerate(descriptions):\n",
    "            words = extract_words(description)\n",
    "            scores = []\n",
    "            for idx, category in enumerate(self.categories):\n",
    "                score = 1\n",
    "                for word in words:\n",
    "                    if word in category_dicts[idx]: \n",
    "                        Nwc = category_dicts[idx][word]\n",
    "                    else:\n",
    "                        Nwc = 0\n",
    "                    score *= (Nwc + self.alpha) / (len(category_word_lists[idx]) + self.alpha*len(words))\n",
    "\n",
    "                scores.append(score*class_prob_list[idx])\n",
    "                    \n",
    "            scores_dict[index] = scores\n",
    "\n",
    "        for des in scores_dict:\n",
    "            predictions.append(self.categories[scores_dict[des].index(max(scores_dict[des]))])\n",
    "\n",
    "        return predictions\n",
    "    \n",
    "    def calculate_accuracy (self, predictions, phase):\n",
    "        \n",
    "        table = []\n",
    "        \n",
    "        matrix = []\n",
    "\n",
    "        all_correct = 0\n",
    "        for category in self.categories:\n",
    "            \n",
    "            matrix_dict = {}\n",
    "            for _category in self.categories:\n",
    "                matrix_dict[_category] = 0\n",
    "                \n",
    "            correct_count = 0\n",
    "            actuals = self.testing_df['category']\n",
    "            \n",
    "            for index, actual in enumerate(actuals):\n",
    "                if actual == category:\n",
    "                    if actual == predictions[index]:\n",
    "                        correct_count+=1 #tp\n",
    "    \n",
    "                    matrix_dict[predictions[index]]+=1\n",
    "            \n",
    "            matrix.append(matrix_dict)\n",
    "            all_correct+=correct_count\n",
    "            \n",
    "            recall = correct_count / self.testing_df[self.testing_df['category'] == category].shape[0]\n",
    "            precision = correct_count / predictions.count(category)\n",
    "            table.append([category, recall, precision])\n",
    "\n",
    "        accuracy = all_correct / self.testing_df.shape[0]\n",
    "        print(tabulate(table, headers=[phase, \"Recall\", \"Precision\"], tablefmt=\"pretty\"))\n",
    "        print(\"Accuracy = \", accuracy)\n",
    "        \n",
    "        if not self.is_two:\n",
    "\n",
    "            confusion_matrix = PrettyTable()\n",
    "            confusion_matrix.add_row([' ', ' ', 'Predicted', 'Predicted', 'Predicted'])\n",
    "            confusion_matrix.add_row([' ', ' '] + list(self.categories))\n",
    "            for index, dic in enumerate(matrix):\n",
    "                dic = OrderedDict([(el, dic[el]) for el in self.categories])\n",
    "                confusion_matrix.add_row(['Actual'] + [self.categories[index]] + list(dic.values()))\n",
    "            print(confusion_matrix)\n",
    "\n"
   ]
  },
  {
   "cell_type": "markdown",
   "metadata": {},
   "source": [
    "<font color=\"73C6B6\"><b>Is <b>precision</b> everything?</b></font> <br>\n",
    "No. In modeling a problem we need to make sure that the model has learned from the training data properly and that is why precision is good. Because of the uncertain nature of data, sometimes the model results in a better precision and accuracy but hasn't really learned from the data and that's why it performs poorly when the data is varied. [5] For example when we have 10000 of one class and 200 of another, when the model classifies almost all of them as the first one and that gives it the precision will be 98%. But if we give this model 200 of the first one and 10000 of the second one, the model again predicts almost all of it as the first one, this time precision is 0.02. So this is why we need to checkout recalls. Recall refers to the percentage of total relevant results correctly classified by your algorithm. Where percision is the percentage of your results which are relevant. [6]<br>"
   ]
  },
  {
   "cell_type": "code",
   "execution_count": 30,
   "metadata": {},
   "outputs": [
    {
     "name": "stderr",
     "output_type": "stream",
     "text": [
      "E:\\Program Files\\Anaconda\\lib\\site-packages\\ipykernel_launcher.py:21: UserWarning: Boolean Series key will be reindexed to match DataFrame index.\n"
     ]
    },
    {
     "name": "stdout",
     "output_type": "stream",
     "text": [
      "+----------+--------------------+--------------------+\n",
      "|  phase1  |       Recall       |     Precision      |\n",
      "+----------+--------------------+--------------------+\n",
      "|  TRAVEL  | 0.8945244956772335 | 0.9338146811070999 |\n",
      "| BUSINESS | 0.9365994236311239 | 0.8987831858407079 |\n",
      "+----------+--------------------+--------------------+\n",
      "Accuracy =  0.9155619596541786\n",
      "14.967868566513062 s\n"
     ]
    }
   ],
   "source": [
    "t1 = time.time()\n",
    "naive_classifier = Naive_Bayes_Classifier(0.5, is_two=True, is_test=False)\n",
    "naive_classifier.classify()\n",
    "t2 = time.time()\n",
    "print(t2-t1, 's')"
   ]
  },
  {
   "cell_type": "code",
   "execution_count": 31,
   "metadata": {},
   "outputs": [
    {
     "name": "stderr",
     "output_type": "stream",
     "text": [
      "E:\\Program Files\\Anaconda\\lib\\site-packages\\ipykernel_launcher.py:21: UserWarning: Boolean Series key will be reindexed to match DataFrame index.\n"
     ]
    },
    {
     "name": "stdout",
     "output_type": "stream",
     "text": [
      "+----------------+--------------------+--------------------+\n",
      "|     phase2     |       Recall       |     Precision      |\n",
      "+----------------+--------------------+--------------------+\n",
      "|     TRAVEL     | 0.8553314121037464 | 0.8592935726693689 |\n",
      "| STYLE & BEAUTY | 0.8507204610951009 | 0.9190535491905355 |\n",
      "|    BUSINESS    | 0.930835734870317  | 0.8627136752136753 |\n",
      "+----------------+--------------------+--------------------+\n",
      "Accuracy =  0.8789625360230547\n",
      "+---------+----------------+-----------+----------------+-----------+\n",
      "| Field 1 |    Field 2     |  Field 3  |    Field 4     |  Field 5  |\n",
      "+---------+----------------+-----------+----------------+-----------+\n",
      "|         |                | Predicted |   Predicted    | Predicted |\n",
      "|         |                |   TRAVEL  | STYLE & BEAUTY |  BUSINESS |\n",
      "|  Actual |     TRAVEL     |    1484   |       97       |    154    |\n",
      "|  Actual | STYLE & BEAUTY |    156    |      1476      |    103    |\n",
      "|  Actual |    BUSINESS    |     87    |       33       |    1615   |\n",
      "+---------+----------------+-----------+----------------+-----------+\n",
      "21.247328996658325 s\n"
     ]
    }
   ],
   "source": [
    "t1 = time.time()\n",
    "naive_classifier = Naive_Bayes_Classifier(0.1, is_two=False, is_test=False)\n",
    "naive_classifier.classify()\n",
    "t2 = time.time()\n",
    "print(t2-t1, 's')"
   ]
  },
  {
   "cell_type": "code",
   "execution_count": 32,
   "metadata": {},
   "outputs": [
    {
     "name": "stderr",
     "output_type": "stream",
     "text": [
      "E:\\Program Files\\Anaconda\\lib\\site-packages\\ipykernel_launcher.py:21: UserWarning: Boolean Series key will be reindexed to match DataFrame index.\n"
     ]
    }
   ],
   "source": [
    "naive_classifier = Naive_Bayes_Classifier(0.1, is_two=False, is_test=True)\n",
    "naive_classifier.classify()"
   ]
  },
  {
   "cell_type": "markdown",
   "metadata": {},
   "source": [
    "### References: <br>\n",
    "[1] https://towardsdatascience.com/stemming-lemmatization-what-ba782b7c0bd8 <br>\n",
    "[2] https://en.wikipedia.org/wiki/Oversampling_and_undersampling_in_data_analysis <br>\n",
    "[3] https://medium.com/analytics-vidhya/naive-bayes-classifier-for-text-classification-556fabaf252b <br>\n",
    "[4] https://towardsdatascience.com/tf-idf-for-document-ranking-from-scratch-in-python-on-real-world-dataset-796d339a4089 <br>\n",
    "[5] https://towardsdatascience.com/is-accuracy-everything-96da9afd540d <br>\n",
    "[6] https://towardsdatascience.com/precision-vs-recall-386cf9f89488"
   ]
  }
 ],
 "metadata": {
  "kernelspec": {
   "display_name": "Python 3.7.3 64-bit ('base': conda)",
   "language": "python",
   "name": "python37364bitbaseconda85cb869ba3f54f519968a1db97ce143c"
  },
  "language_info": {
   "codemirror_mode": {
    "name": "ipython",
    "version": 3
   },
   "file_extension": ".py",
   "mimetype": "text/x-python",
   "name": "python",
   "nbconvert_exporter": "python",
   "pygments_lexer": "ipython3",
   "version": "3.7.3"
  }
 },
 "nbformat": 4,
 "nbformat_minor": 2
}
